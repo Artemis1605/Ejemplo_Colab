{
  "nbformat": 4,
  "nbformat_minor": 0,
  "metadata": {
    "colab": {
      "provenance": [],
      "authorship_tag": "ABX9TyNoouuQwnuIo+YvpP5ilqlg",
      "include_colab_link": true
    },
    "kernelspec": {
      "name": "python3",
      "display_name": "Python 3"
    },
    "language_info": {
      "name": "python"
    }
  },
  "cells": [
    {
      "cell_type": "markdown",
      "metadata": {
        "id": "view-in-github",
        "colab_type": "text"
      },
      "source": [
        "<a href=\"https://colab.research.google.com/github/Artemis1605/Ejemplo_Colab/blob/main/semana_14_.ipynb\" target=\"_parent\"><img src=\"https://colab.research.google.com/assets/colab-badge.svg\" alt=\"Open In Colab\"/></a>"
      ]
    },
    {
      "cell_type": "markdown",
      "source": [
        "# **Algoritmos secuenciales**\n"
      ],
      "metadata": {
        "id": "1i6hflqRqFV-"
      }
    },
    {
      "cell_type": "code",
      "execution_count": null,
      "metadata": {
        "colab": {
          "base_uri": "https://localhost:8080/"
        },
        "id": "EOH6dlucmYU8",
        "outputId": "a246e62e-d985-41b3-b05e-554a37d0704b"
      },
      "outputs": [
        {
          "output_type": "stream",
          "name": "stdout",
          "text": [
            "La suma de a + b es: 8\n"
          ]
        }
      ],
      "source": [
        " #Algoritmos secuenciales\n",
        " a = 5\n",
        " b = 3\n",
        "\n",
        " suma = a + b\n",
        " print(\"La suma de a + b es:\", suma)"
      ]
    },
    {
      "cell_type": "code",
      "source": [
        " #Algoritmos secuenciales\n",
        " a = 5\n",
        " b = 3\n",
        "\n",
        " resta = a - b\n",
        " print(\"La resta de a - b es:\", resta)\n",
        "\n",
        "  #Algoritmos secuenciales\n",
        " a = 10\n",
        " b = 5\n",
        "\n",
        " multiplicación = a * b\n",
        " print(\"La multiplicación de a * b es:\", multiplicación)\n",
        "\n",
        "  #Algoritmos secuenciales\n",
        " a = 18\n",
        " b = 3\n",
        "\n",
        " división = a / b\n",
        " print(\"La división de a / b es:\", división)"
      ],
      "metadata": {
        "colab": {
          "base_uri": "https://localhost:8080/"
        },
        "id": "Mty0Ixnzm-md",
        "outputId": "2aecb228-ace2-45e1-96fb-ec349d38d9c4"
      },
      "execution_count": null,
      "outputs": [
        {
          "output_type": "stream",
          "name": "stdout",
          "text": [
            "La resta de a - b es: 2\n",
            "La multiplicación de a * b es: 50\n",
            "La división de a / b es: 6.0\n"
          ]
        }
      ]
    },
    {
      "cell_type": "markdown",
      "source": [
        "# **Algoritmos condicionales (decisión)**"
      ],
      "metadata": {
        "id": "2-WCJ037qCIt"
      }
    },
    {
      "cell_type": "code",
      "source": [
        "edad = int(input(\"Ingrese su edad: \"))\n",
        "if edad >= 18:\n",
        "    print(\"Eres mayor de edad\")\n",
        "if edad < 18:\n",
        "    print(\"Eres menor de edad\")\n",
        "else:\n",
        "    print(\"Bienvenido\")"
      ],
      "metadata": {
        "colab": {
          "base_uri": "https://localhost:8080/"
        },
        "id": "cuUKsAw_nwRW",
        "outputId": "14692496-e827-40cb-b160-479272dd92b0"
      },
      "execution_count": null,
      "outputs": [
        {
          "output_type": "stream",
          "name": "stdout",
          "text": [
            "Ingrese su edad: 19\n",
            "Eres mayor de edad\n",
            "Bienvenido\n"
          ]
        }
      ]
    },
    {
      "cell_type": "markdown",
      "source": [
        "# **Algoritmos repetitivos (bucles)**\n"
      ],
      "metadata": {
        "id": "BDF4Jx9zp9Lt"
      }
    },
    {
      "cell_type": "code",
      "source": [
        "for i in range(5):\n",
        "    print(\"Hola\", i)"
      ],
      "metadata": {
        "colab": {
          "base_uri": "https://localhost:8080/"
        },
        "id": "PUpE-tsAn8EV",
        "outputId": "3b7f1da6-5715-47a0-9e52-237e6948bc2c"
      },
      "execution_count": null,
      "outputs": [
        {
          "output_type": "stream",
          "name": "stdout",
          "text": [
            "Hola 0\n",
            "Hola 1\n",
            "Hola 2\n",
            "Hola 3\n",
            "Hola 4\n"
          ]
        }
      ]
    },
    {
      "cell_type": "code",
      "source": [
        "for i in range(1, 6):\n",
        "    print(\"Contador\", i)"
      ],
      "metadata": {
        "colab": {
          "base_uri": "https://localhost:8080/"
        },
        "id": "kst3K_s0oxEd",
        "outputId": "7f720a3a-2001-4d85-88cb-e1c676fc4707"
      },
      "execution_count": null,
      "outputs": [
        {
          "output_type": "stream",
          "name": "stdout",
          "text": [
            "Contador 1\n",
            "Contador 2\n",
            "Contador 3\n",
            "Contador 4\n",
            "Contador 5\n"
          ]
        }
      ]
    },
    {
      "cell_type": "markdown",
      "source": [
        "# **Algoritmos determinísticos**"
      ],
      "metadata": {
        "id": "2PMJykOVp5gV"
      }
    },
    {
      "cell_type": "code",
      "source": [
        "a = 3 + 2\n",
        "print(a)"
      ],
      "metadata": {
        "colab": {
          "base_uri": "https://localhost:8080/"
        },
        "id": "YW5WyXqdpL-1",
        "outputId": "f8f4b651-88f2-460f-efbe-b0a59a3630dc"
      },
      "execution_count": null,
      "outputs": [
        {
          "output_type": "stream",
          "name": "stdout",
          "text": [
            "5\n"
          ]
        }
      ]
    },
    {
      "cell_type": "code",
      "source": [
        "a = 3 - 2\n",
        "print(a)"
      ],
      "metadata": {
        "colab": {
          "base_uri": "https://localhost:8080/"
        },
        "id": "KY6U2FjUpdvl",
        "outputId": "5c24c608-d0bd-4a2c-e5c9-071e6a5c9bfd"
      },
      "execution_count": null,
      "outputs": [
        {
          "output_type": "stream",
          "name": "stdout",
          "text": [
            "1\n"
          ]
        }
      ]
    },
    {
      "cell_type": "markdown",
      "source": [
        "# **Algoritmos probabilísticos (o no determinísticos)**"
      ],
      "metadata": {
        "id": "MAw_Cwxqpv1F"
      }
    },
    {
      "cell_type": "code",
      "source": [
        "import random\n",
        "print(random.randint(0, 10))"
      ],
      "metadata": {
        "colab": {
          "base_uri": "https://localhost:8080/"
        },
        "id": "aq9ByIf0pTd1",
        "outputId": "a7f3b51c-2ff3-4760-9281-9aebf7311968"
      },
      "execution_count": null,
      "outputs": [
        {
          "output_type": "stream",
          "name": "stdout",
          "text": [
            "2\n"
          ]
        }
      ]
    },
    {
      "cell_type": "code",
      "source": [
        "import random\n",
        "print(random.randint(0, 20))"
      ],
      "metadata": {
        "colab": {
          "base_uri": "https://localhost:8080/"
        },
        "id": "r4bHRAOWpjMF",
        "outputId": "21392e8b-a29c-4462-8079-d2db04c8f9de"
      },
      "execution_count": null,
      "outputs": [
        {
          "output_type": "stream",
          "name": "stdout",
          "text": [
            "15\n"
          ]
        }
      ]
    },
    {
      "cell_type": "markdown",
      "source": [
        "![image.png](data:image/png;base64,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)"
      ],
      "metadata": {
        "id": "nh99vGOBq0fl"
      }
    }
  ]
}
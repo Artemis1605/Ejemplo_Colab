{
  "nbformat": 4,
  "nbformat_minor": 0,
  "metadata": {
    "colab": {
      "provenance": [],
      "authorship_tag": "ABX9TyPqlARIHe1aBhs/M2llgBD9",
      "include_colab_link": true
    },
    "kernelspec": {
      "name": "python3",
      "display_name": "Python 3"
    },
    "language_info": {
      "name": "python"
    }
  },
  "cells": [
    {
      "cell_type": "markdown",
      "metadata": {
        "id": "view-in-github",
        "colab_type": "text"
      },
      "source": [
        "<a href=\"https://colab.research.google.com/github/Artemis1605/Ejemplo_Colab/blob/main/Pr%C3%A1ctica.ipynb\" target=\"_parent\"><img src=\"https://colab.research.google.com/assets/colab-badge.svg\" alt=\"Open In Colab\"/></a>"
      ]
    },
    {
      "cell_type": "markdown",
      "source": [
        "# **PRÁCTICA TIPOS DE ALGORITMOS**"
      ],
      "metadata": {
        "id": "24zxOUcrr-l9"
      }
    },
    {
      "cell_type": "markdown",
      "source": [
        "1. Escribe un programa que pida al usuario la base y la altura de un triángulo y\n",
        "calcule su área."
      ],
      "metadata": {
        "id": "33k6Hd8tsBp0"
      }
    },
    {
      "cell_type": "code",
      "source": [
        "base = float(input(\"Ingrese la base del triángulo: \"))\n",
        "altura = float(input(\"Ingrese la altura del triángulo: \"))\n",
        "area = (base * altura) / 2\n",
        "print(\"El área del triángulo es:\", area)"
      ],
      "metadata": {
        "colab": {
          "base_uri": "https://localhost:8080/"
        },
        "id": "adxLM6N0sUu8",
        "outputId": "96182a17-9f80-4ecd-8fb9-7e5d4decb0c7"
      },
      "execution_count": null,
      "outputs": [
        {
          "output_type": "stream",
          "name": "stdout",
          "text": [
            "Ingrese la base del triángulo: 8\n",
            "Ingrese la altura del triángulo: 4\n",
            "El área del triángulo es: 16.0\n"
          ]
        }
      ]
    },
    {
      "cell_type": "markdown",
      "source": [
        "2. Escribe un programa que lea una temperatura en grados Celsius e imprima su\n",
        "equivalente en Fahrenheit"
      ],
      "metadata": {
        "id": "-xrn9KJssEic"
      }
    },
    {
      "cell_type": "code",
      "source": [
        "#De celsius su equivalente en Fahrenheit\n",
        "celsius = float(input(\"Ingrese la temperatura en grados Celsius: \"))\n",
        "fahrenheit = (celsius * 9/5) + 32\n",
        "print(\"La temperatura en grados Fahrenheit es:\", fahrenheit)"
      ],
      "metadata": {
        "colab": {
          "base_uri": "https://localhost:8080/"
        },
        "id": "idxbxEQ8sVEM",
        "outputId": "81777b9d-99f5-4ca3-8b80-abb7299b0244"
      },
      "execution_count": null,
      "outputs": [
        {
          "output_type": "stream",
          "name": "stdout",
          "text": [
            "Ingrese la temperatura en grados Celsius: 14\n",
            "La temperatura en grados Fahrenheit es: 57.2\n"
          ]
        }
      ]
    },
    {
      "cell_type": "markdown",
      "source": [
        "3. Escribe un programa que reciba tres números diferentes e indique cuál es el mayor.\n"
      ],
      "metadata": {
        "id": "pAt2caiOsHB8"
      }
    },
    {
      "cell_type": "code",
      "source": [
        "mayor = 0\n",
        "for i in range(3):\n",
        "    numero = int(input(\"Ingrese un número: \"))\n",
        "    if numero > mayor:\n",
        "        mayor = numero\n",
        "print(\"El número mayor es:\", mayor)"
      ],
      "metadata": {
        "colab": {
          "base_uri": "https://localhost:8080/"
        },
        "id": "NmgSwF7PsVWM",
        "outputId": "e1d4dcbc-c78f-4940-d854-d9603c7680c6"
      },
      "execution_count": null,
      "outputs": [
        {
          "output_type": "stream",
          "name": "stdout",
          "text": [
            "Ingrese un número: 5\n",
            "Ingrese un número: 4\n",
            "Ingrese un número: 9\n",
            "El número mayor es: 9\n"
          ]
        }
      ]
    },
    {
      "cell_type": "markdown",
      "source": [
        "4. Un cliente realiza una compra y se le aplica un descuento según el monto total:\n",
        "• Si gasta más de S/500, se le aplica 20%.\n",
        "• Si gasta entre S/200 y S/500, se le aplica 10%.\n",
        "• Si gasta menos de S/200, no tiene descuento."
      ],
      "metadata": {
        "id": "kowidtl4sQhU"
      }
    },
    {
      "cell_type": "code",
      "source": [
        "monto_compra = float(input(\"Ingresa el monto total de la compra en soles (S/): \"))\n",
        "\n",
        "if monto_compra > 500:\n",
        "    descuento = monto_compra * 0.20\n",
        "    porcentaje_descuento = \"20%\"\n",
        "elif monto_compra >= 200 and monto_compra <= 500: # Se cumple para montos entre 200 y 500, ambos inclusive.\n",
        "    descuento = monto_compra * 0.10\n",
        "    porcentaje_descuento = \"10%\"\n",
        "else: # Esto cubre montos menores a S/200\n",
        "    descuento = 0\n",
        "    porcentaje_descuento = \"0%\"\n",
        "\n",
        "monto_final = monto_compra - descuento\n",
        "\n",
        "print(f\"\\nMonto de la compra: S/{monto_compra:.2f}\")\n",
        "print(f\"Descuento aplicado: {porcentaje_descuento} (S/{descuento:.2f})\")\n",
        "print(f\"Monto final a pagar: S/{monto_final:.2f}\")"
      ],
      "metadata": {
        "colab": {
          "base_uri": "https://localhost:8080/"
        },
        "id": "FXINkP3KsVoU",
        "outputId": "d60d95aa-0762-412d-9c73-0de9f68fa160"
      },
      "execution_count": null,
      "outputs": [
        {
          "output_type": "stream",
          "name": "stdout",
          "text": [
            "Ingresa el monto total de la compra en soles (S/): 600\n",
            "\n",
            "Monto de la compra: S/600.00\n",
            "Descuento aplicado: 20% (S/120.00)\n",
            "Monto final a pagar: S/480.00\n"
          ]
        }
      ]
    },
    {
      "cell_type": "markdown",
      "source": [
        "5. Solicita dos números enteros al usuario (inicio y fin) y muestra la suma de todos\n",
        "los números pares en ese rango (inclusive)."
      ],
      "metadata": {
        "id": "wetv8ihEsR6k"
      }
    },
    {
      "cell_type": "code",
      "execution_count": null,
      "metadata": {
        "colab": {
          "base_uri": "https://localhost:8080/"
        },
        "id": "DxQtZ-_Kr7KJ",
        "outputId": "b8f0f12c-51ab-4999-d7bc-0beb78b4958a"
      },
      "outputs": [
        {
          "output_type": "stream",
          "name": "stdout",
          "text": [
            "Ingrese el número de inicio del rango: 6\n",
            "Ingrese el número de fin del rango: 10\n",
            "La suma de los números pares en el rango de 6 a 10 es: 24\n"
          ]
        }
      ],
      "source": [
        "# Solicitar los números al usuario\n",
        "try:\n",
        "    inicio = int(input(\"Ingrese el número de inicio del rango: \"))\n",
        "    fin = int(input(\"Ingrese el número de fin del rango: \"))\n",
        "except ValueError:\n",
        "    print(\"Entrada inválida. Por favor, ingrese solo números enteros.\")\n",
        "    exit()\n",
        "\n",
        "# Asegurarse de que el inicio sea menor o igual que el fin\n",
        "if inicio > fin:\n",
        "    inicio, fin = fin, inicio # Intercambiar los valores si el inicio es mayor que el fin\n",
        "\n",
        "suma_pares = 0\n",
        "\n",
        "# Iterar a través del rango\n",
        "for numero in range(inicio, fin + 1):\n",
        "    # Verificar si el número es par\n",
        "    if numero % 2 == 0:\n",
        "        suma_pares += numero\n",
        "\n",
        "print(f\"La suma de los números pares en el rango de {inicio} a {fin} es: {suma_pares}\")"
      ]
    }
  ]
}